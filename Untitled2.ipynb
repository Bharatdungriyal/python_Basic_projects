{
 "cells": [
  {
   "cell_type": "code",
   "execution_count": 1,
   "id": "36153740-36a8-4e1d-9db2-7a54f49e32a9",
   "metadata": {},
   "outputs": [],
   "source": [
    "import pandas as pd\n",
    "import numpy as np"
   ]
  },
  {
   "cell_type": "code",
   "execution_count": 2,
   "id": "d0b38455-1e7c-4d4a-be03-b809d513d47a",
   "metadata": {},
   "outputs": [],
   "source": [
    "df= pd.read_csv(r\"C:\\Users\\bhara\\Downloads\\retail_store_sales.csv\")"
   ]
  },
  {
   "cell_type": "code",
   "execution_count": 3,
   "id": "4e479594-7377-4575-a86d-3029cbf61298",
   "metadata": {},
   "outputs": [
    {
     "data": {
      "text/html": [
       "<div>\n",
       "<style scoped>\n",
       "    .dataframe tbody tr th:only-of-type {\n",
       "        vertical-align: middle;\n",
       "    }\n",
       "\n",
       "    .dataframe tbody tr th {\n",
       "        vertical-align: top;\n",
       "    }\n",
       "\n",
       "    .dataframe thead th {\n",
       "        text-align: right;\n",
       "    }\n",
       "</style>\n",
       "<table border=\"1\" class=\"dataframe\">\n",
       "  <thead>\n",
       "    <tr style=\"text-align: right;\">\n",
       "      <th></th>\n",
       "      <th>Transaction ID</th>\n",
       "      <th>Customer ID</th>\n",
       "      <th>Category</th>\n",
       "      <th>Item</th>\n",
       "      <th>Price Per Unit</th>\n",
       "      <th>Quantity</th>\n",
       "      <th>Total Spent</th>\n",
       "      <th>Payment Method</th>\n",
       "      <th>Location</th>\n",
       "      <th>Transaction Date</th>\n",
       "      <th>Discount Applied</th>\n",
       "    </tr>\n",
       "  </thead>\n",
       "  <tbody>\n",
       "    <tr>\n",
       "      <th>0</th>\n",
       "      <td>TXN_6867343</td>\n",
       "      <td>CUST_09</td>\n",
       "      <td>Patisserie</td>\n",
       "      <td>Item_10_PAT</td>\n",
       "      <td>18.5</td>\n",
       "      <td>10.0</td>\n",
       "      <td>185.0</td>\n",
       "      <td>Digital Wallet</td>\n",
       "      <td>Online</td>\n",
       "      <td>2024-04-08</td>\n",
       "      <td>True</td>\n",
       "    </tr>\n",
       "    <tr>\n",
       "      <th>1</th>\n",
       "      <td>TXN_3731986</td>\n",
       "      <td>CUST_22</td>\n",
       "      <td>Milk Products</td>\n",
       "      <td>Item_17_MILK</td>\n",
       "      <td>29.0</td>\n",
       "      <td>9.0</td>\n",
       "      <td>261.0</td>\n",
       "      <td>Digital Wallet</td>\n",
       "      <td>Online</td>\n",
       "      <td>2023-07-23</td>\n",
       "      <td>True</td>\n",
       "    </tr>\n",
       "    <tr>\n",
       "      <th>2</th>\n",
       "      <td>TXN_9303719</td>\n",
       "      <td>CUST_02</td>\n",
       "      <td>Butchers</td>\n",
       "      <td>Item_12_BUT</td>\n",
       "      <td>21.5</td>\n",
       "      <td>2.0</td>\n",
       "      <td>43.0</td>\n",
       "      <td>Credit Card</td>\n",
       "      <td>Online</td>\n",
       "      <td>2022-10-05</td>\n",
       "      <td>False</td>\n",
       "    </tr>\n",
       "    <tr>\n",
       "      <th>3</th>\n",
       "      <td>TXN_9458126</td>\n",
       "      <td>CUST_06</td>\n",
       "      <td>Beverages</td>\n",
       "      <td>Item_16_BEV</td>\n",
       "      <td>27.5</td>\n",
       "      <td>9.0</td>\n",
       "      <td>247.5</td>\n",
       "      <td>Credit Card</td>\n",
       "      <td>Online</td>\n",
       "      <td>2022-05-07</td>\n",
       "      <td>NaN</td>\n",
       "    </tr>\n",
       "    <tr>\n",
       "      <th>4</th>\n",
       "      <td>TXN_4575373</td>\n",
       "      <td>CUST_05</td>\n",
       "      <td>Food</td>\n",
       "      <td>Item_6_FOOD</td>\n",
       "      <td>12.5</td>\n",
       "      <td>7.0</td>\n",
       "      <td>87.5</td>\n",
       "      <td>Digital Wallet</td>\n",
       "      <td>Online</td>\n",
       "      <td>2022-10-02</td>\n",
       "      <td>False</td>\n",
       "    </tr>\n",
       "    <tr>\n",
       "      <th>5</th>\n",
       "      <td>TXN_7482416</td>\n",
       "      <td>CUST_09</td>\n",
       "      <td>Patisserie</td>\n",
       "      <td>NaN</td>\n",
       "      <td>NaN</td>\n",
       "      <td>10.0</td>\n",
       "      <td>200.0</td>\n",
       "      <td>Credit Card</td>\n",
       "      <td>Online</td>\n",
       "      <td>2023-11-30</td>\n",
       "      <td>NaN</td>\n",
       "    </tr>\n",
       "    <tr>\n",
       "      <th>6</th>\n",
       "      <td>TXN_3652209</td>\n",
       "      <td>CUST_07</td>\n",
       "      <td>Food</td>\n",
       "      <td>Item_1_FOOD</td>\n",
       "      <td>5.0</td>\n",
       "      <td>8.0</td>\n",
       "      <td>40.0</td>\n",
       "      <td>Credit Card</td>\n",
       "      <td>In-store</td>\n",
       "      <td>2023-06-10</td>\n",
       "      <td>True</td>\n",
       "    </tr>\n",
       "    <tr>\n",
       "      <th>7</th>\n",
       "      <td>TXN_1372952</td>\n",
       "      <td>CUST_21</td>\n",
       "      <td>Furniture</td>\n",
       "      <td>NaN</td>\n",
       "      <td>33.5</td>\n",
       "      <td>NaN</td>\n",
       "      <td>NaN</td>\n",
       "      <td>Digital Wallet</td>\n",
       "      <td>In-store</td>\n",
       "      <td>2024-04-02</td>\n",
       "      <td>True</td>\n",
       "    </tr>\n",
       "    <tr>\n",
       "      <th>8</th>\n",
       "      <td>TXN_9728486</td>\n",
       "      <td>CUST_23</td>\n",
       "      <td>Furniture</td>\n",
       "      <td>Item_16_FUR</td>\n",
       "      <td>27.5</td>\n",
       "      <td>1.0</td>\n",
       "      <td>27.5</td>\n",
       "      <td>Credit Card</td>\n",
       "      <td>In-store</td>\n",
       "      <td>2023-04-26</td>\n",
       "      <td>False</td>\n",
       "    </tr>\n",
       "    <tr>\n",
       "      <th>9</th>\n",
       "      <td>TXN_2722661</td>\n",
       "      <td>CUST_25</td>\n",
       "      <td>Butchers</td>\n",
       "      <td>Item_22_BUT</td>\n",
       "      <td>36.5</td>\n",
       "      <td>3.0</td>\n",
       "      <td>109.5</td>\n",
       "      <td>Cash</td>\n",
       "      <td>Online</td>\n",
       "      <td>2024-03-14</td>\n",
       "      <td>False</td>\n",
       "    </tr>\n",
       "  </tbody>\n",
       "</table>\n",
       "</div>"
      ],
      "text/plain": [
       "  Transaction ID Customer ID       Category          Item  Price Per Unit  \\\n",
       "0    TXN_6867343     CUST_09     Patisserie   Item_10_PAT            18.5   \n",
       "1    TXN_3731986     CUST_22  Milk Products  Item_17_MILK            29.0   \n",
       "2    TXN_9303719     CUST_02       Butchers   Item_12_BUT            21.5   \n",
       "3    TXN_9458126     CUST_06      Beverages   Item_16_BEV            27.5   \n",
       "4    TXN_4575373     CUST_05           Food   Item_6_FOOD            12.5   \n",
       "5    TXN_7482416     CUST_09     Patisserie           NaN             NaN   \n",
       "6    TXN_3652209     CUST_07           Food   Item_1_FOOD             5.0   \n",
       "7    TXN_1372952     CUST_21      Furniture           NaN            33.5   \n",
       "8    TXN_9728486     CUST_23      Furniture   Item_16_FUR            27.5   \n",
       "9    TXN_2722661     CUST_25       Butchers   Item_22_BUT            36.5   \n",
       "\n",
       "   Quantity  Total Spent  Payment Method  Location Transaction Date  \\\n",
       "0      10.0        185.0  Digital Wallet    Online       2024-04-08   \n",
       "1       9.0        261.0  Digital Wallet    Online       2023-07-23   \n",
       "2       2.0         43.0     Credit Card    Online       2022-10-05   \n",
       "3       9.0        247.5     Credit Card    Online       2022-05-07   \n",
       "4       7.0         87.5  Digital Wallet    Online       2022-10-02   \n",
       "5      10.0        200.0     Credit Card    Online       2023-11-30   \n",
       "6       8.0         40.0     Credit Card  In-store       2023-06-10   \n",
       "7       NaN          NaN  Digital Wallet  In-store       2024-04-02   \n",
       "8       1.0         27.5     Credit Card  In-store       2023-04-26   \n",
       "9       3.0        109.5            Cash    Online       2024-03-14   \n",
       "\n",
       "  Discount Applied  \n",
       "0             True  \n",
       "1             True  \n",
       "2            False  \n",
       "3              NaN  \n",
       "4            False  \n",
       "5              NaN  \n",
       "6             True  \n",
       "7             True  \n",
       "8            False  \n",
       "9            False  "
      ]
     },
     "execution_count": 3,
     "metadata": {},
     "output_type": "execute_result"
    }
   ],
   "source": [
    "df.head(10)"
   ]
  },
  {
   "cell_type": "markdown",
   "id": "5b102ce8-7ff3-4721-9881-7617bd75fe64",
   "metadata": {},
   "source": [
    "File Name: retail_store_sales.csv\n",
    "Number of Rows: 12,575\n",
    "Number of Columns: 11\n",
    "\n",
    "The Dirty Retail Store Sales dataset contains 12,575 rows of synthetic data representing sales transactions from a retail store. \n",
    "The dataset includes eight product categories with 25 items per category, each having static prices. It is designed to simulate real-world \n",
    "sales data, including intentional\"dirtiness\" such as missing or inconsistent values."
   ]
  },
  {
   "cell_type": "code",
   "execution_count": 5,
   "id": "b72ef3c9-4053-492f-bea4-b676e5ee02d5",
   "metadata": {},
   "outputs": [
    {
     "name": "stdout",
     "output_type": "stream",
     "text": [
      "<class 'pandas.core.frame.DataFrame'>\n",
      "RangeIndex: 12575 entries, 0 to 12574\n",
      "Data columns (total 11 columns):\n",
      " #   Column            Non-Null Count  Dtype  \n",
      "---  ------            --------------  -----  \n",
      " 0   Transaction ID    12575 non-null  object \n",
      " 1   Customer ID       12575 non-null  object \n",
      " 2   Category          12575 non-null  object \n",
      " 3   Item              11362 non-null  object \n",
      " 4   Price Per Unit    11966 non-null  float64\n",
      " 5   Quantity          11971 non-null  float64\n",
      " 6   Total Spent       11971 non-null  float64\n",
      " 7   Payment Method    12575 non-null  object \n",
      " 8   Location          12575 non-null  object \n",
      " 9   Transaction Date  12575 non-null  object \n",
      " 10  Discount Applied  8376 non-null   object \n",
      "dtypes: float64(3), object(8)\n",
      "memory usage: 1.1+ MB\n"
     ]
    }
   ],
   "source": [
    "df.info()"
   ]
  },
  {
   "cell_type": "code",
   "execution_count": 6,
   "id": "318f25a7-9330-4280-ad61-714626847724",
   "metadata": {},
   "outputs": [
    {
     "data": {
      "text/plain": [
       "Transaction ID         0\n",
       "Customer ID            0\n",
       "Category               0\n",
       "Item                1213\n",
       "Price Per Unit       609\n",
       "Quantity             604\n",
       "Total Spent          604\n",
       "Payment Method         0\n",
       "Location               0\n",
       "Transaction Date       0\n",
       "Discount Applied    4199\n",
       "dtype: int64"
      ]
     },
     "execution_count": 6,
     "metadata": {},
     "output_type": "execute_result"
    }
   ],
   "source": [
    "df.isnull().sum()"
   ]
  },
  {
   "cell_type": "markdown",
   "id": "69fa58aa-13c2-4ffb-b3c4-3f68dedfb47a",
   "metadata": {},
   "source": [
    "Transaction ID------A unique identifier for each transaction.------ Always present and unique.\tTXN_1234567\n",
    "Customer ID\t--------A unique identifier for each customer.----- 25 unique customers.\tCUST_01\n",
    "Category-------\tThe category of the purchased item.\t-----Food, Furniture\n",
    "Item------\tThe name of the purchased item. May contain missing values or None.\t-----Item_1_FOOD, None\n",
    "Price Per Unit----The static price of a single unit of the item. -------May contain missing or None values.\t4.00, None\n",
    "Quantity------\tThe quantity of the item purchased.----- May contain missing or None values.\t1, None\n",
    "Total Spent\t----The total amount spent on the transaction. ----Calculated as Quantity * Price Per Unit.\t8.00, None\n",
    "Payment Method------The method of payment used. -----May contain missing or invalid values.\tCash, Credit Card\n",
    "Location------The location where the transaction occurred.----- May contain missing or invalid values.\tIn-store, Online\n",
    "Transaction Date-----The date of the transaction. ----- Always present and valid.\t2023-01-15\n",
    "Discount Applied-----Indicates if a discount was applied to the transaction.------- May contain missing values.\tTrue, False, None"
   ]
  },
  {
   "cell_type": "code",
   "execution_count": 8,
   "id": "8edad224-a74d-4d8a-9379-1d11db2699ba",
   "metadata": {},
   "outputs": [
    {
     "name": "stderr",
     "output_type": "stream",
     "text": [
      "C:\\Users\\bhara\\AppData\\Local\\Temp\\ipykernel_13672\\3548817239.py:1: UserWarning: The argument 'infer_datetime_format' is deprecated and will be removed in a future version. A strict version of it is now the default, see https://pandas.pydata.org/pdeps/0004-consistent-to-datetime-parsing.html. You can safely remove this argument.\n",
      "  df['Transaction Date'] = pd.to_datetime(df['Transaction Date'], infer_datetime_format=True)\n"
     ]
    },
    {
     "data": {
      "text/html": [
       "<div>\n",
       "<style scoped>\n",
       "    .dataframe tbody tr th:only-of-type {\n",
       "        vertical-align: middle;\n",
       "    }\n",
       "\n",
       "    .dataframe tbody tr th {\n",
       "        vertical-align: top;\n",
       "    }\n",
       "\n",
       "    .dataframe thead th {\n",
       "        text-align: right;\n",
       "    }\n",
       "</style>\n",
       "<table border=\"1\" class=\"dataframe\">\n",
       "  <thead>\n",
       "    <tr style=\"text-align: right;\">\n",
       "      <th></th>\n",
       "      <th>Transaction ID</th>\n",
       "      <th>Customer ID</th>\n",
       "      <th>Category</th>\n",
       "      <th>Item</th>\n",
       "      <th>Price Per Unit</th>\n",
       "      <th>Quantity</th>\n",
       "      <th>Total Spent</th>\n",
       "      <th>Payment Method</th>\n",
       "      <th>Location</th>\n",
       "      <th>Transaction Date</th>\n",
       "      <th>Discount Applied</th>\n",
       "    </tr>\n",
       "  </thead>\n",
       "  <tbody>\n",
       "    <tr>\n",
       "      <th>0</th>\n",
       "      <td>TXN_6867343</td>\n",
       "      <td>CUST_09</td>\n",
       "      <td>Patisserie</td>\n",
       "      <td>Item_10_PAT</td>\n",
       "      <td>18.5</td>\n",
       "      <td>10.0</td>\n",
       "      <td>185.0</td>\n",
       "      <td>Digital Wallet</td>\n",
       "      <td>Online</td>\n",
       "      <td>2024-04-08</td>\n",
       "      <td>True</td>\n",
       "    </tr>\n",
       "    <tr>\n",
       "      <th>1</th>\n",
       "      <td>TXN_3731986</td>\n",
       "      <td>CUST_22</td>\n",
       "      <td>Milk Products</td>\n",
       "      <td>Item_17_MILK</td>\n",
       "      <td>29.0</td>\n",
       "      <td>9.0</td>\n",
       "      <td>261.0</td>\n",
       "      <td>Digital Wallet</td>\n",
       "      <td>Online</td>\n",
       "      <td>2023-07-23</td>\n",
       "      <td>True</td>\n",
       "    </tr>\n",
       "  </tbody>\n",
       "</table>\n",
       "</div>"
      ],
      "text/plain": [
       "  Transaction ID Customer ID       Category          Item  Price Per Unit  \\\n",
       "0    TXN_6867343     CUST_09     Patisserie   Item_10_PAT            18.5   \n",
       "1    TXN_3731986     CUST_22  Milk Products  Item_17_MILK            29.0   \n",
       "\n",
       "   Quantity  Total Spent  Payment Method Location Transaction Date  \\\n",
       "0      10.0        185.0  Digital Wallet   Online       2024-04-08   \n",
       "1       9.0        261.0  Digital Wallet   Online       2023-07-23   \n",
       "\n",
       "  Discount Applied  \n",
       "0             True  \n",
       "1             True  "
      ]
     },
     "execution_count": 8,
     "metadata": {},
     "output_type": "execute_result"
    }
   ],
   "source": [
    "\n",
    "df['Transaction Date'] = pd.to_datetime(df['Transaction Date'], infer_datetime_format=True)\n",
    "df.head(2)\n"
   ]
  },
  {
   "cell_type": "code",
   "execution_count": 9,
   "id": "2da29268-8725-4f94-9ef8-6d51cf8a8104",
   "metadata": {},
   "outputs": [
    {
     "name": "stdout",
     "output_type": "stream",
     "text": [
      "datetime64[ns]\n"
     ]
    }
   ],
   "source": [
    "print(df[\"Transaction Date\"].dtype)"
   ]
  },
  {
   "cell_type": "code",
   "execution_count": 10,
   "id": "d03343d0-2ce4-4972-9190-3fbf30d3dcec",
   "metadata": {},
   "outputs": [
    {
     "name": "stdout",
     "output_type": "stream",
     "text": [
      "<class 'pandas.core.frame.DataFrame'>\n",
      "RangeIndex: 12575 entries, 0 to 12574\n",
      "Data columns (total 11 columns):\n",
      " #   Column            Non-Null Count  Dtype         \n",
      "---  ------            --------------  -----         \n",
      " 0   Transaction ID    12575 non-null  object        \n",
      " 1   Customer ID       12575 non-null  object        \n",
      " 2   Category          12575 non-null  object        \n",
      " 3   Item              11362 non-null  object        \n",
      " 4   Price Per Unit    11966 non-null  float64       \n",
      " 5   Quantity          11971 non-null  float64       \n",
      " 6   Total Spent       11971 non-null  float64       \n",
      " 7   Payment Method    12575 non-null  object        \n",
      " 8   Location          12575 non-null  object        \n",
      " 9   Transaction Date  12575 non-null  datetime64[ns]\n",
      " 10  Discount Applied  8376 non-null   object        \n",
      "dtypes: datetime64[ns](1), float64(3), object(7)\n",
      "memory usage: 1.1+ MB\n"
     ]
    }
   ],
   "source": [
    "df.info()"
   ]
  },
  {
   "cell_type": "code",
   "execution_count": 11,
   "id": "2f5c4698-f5ac-412a-b10f-28dca0f88e62",
   "metadata": {
    "scrolled": true
   },
   "outputs": [
    {
     "data": {
      "text/plain": [
       "Transaction ID         0\n",
       "Customer ID            0\n",
       "Category               0\n",
       "Item                1213\n",
       "Price Per Unit       609\n",
       "Quantity             604\n",
       "Total Spent          604\n",
       "Payment Method         0\n",
       "Location               0\n",
       "Transaction Date       0\n",
       "Discount Applied    4199\n",
       "dtype: int64"
      ]
     },
     "execution_count": 11,
     "metadata": {},
     "output_type": "execute_result"
    }
   ],
   "source": [
    "df.isnull().sum()"
   ]
  },
  {
   "cell_type": "code",
   "execution_count": 12,
   "id": "69c0a716-1549-4ed4-b831-8cbf4fdd19b5",
   "metadata": {},
   "outputs": [],
   "source": [
    "df[\"Price Per Unit\"] = df[\"Price Per Unit\"].fillna(df[\"Total Spent\"] / df[\"Quantity\"])\n",
    "df[\"Quantity\"] = df[\"Quantity\"].fillna(df[\"Total Spent\"] / df[\"Price Per Unit\"])"
   ]
  },
  {
   "cell_type": "markdown",
   "id": "0e4a9868-4c7b-4b0f-9d54-f284084a7aca",
   "metadata": {},
   "source": [
    "We successfully determined all the values for Price Per Unit, but we were unable to find the values for Quantity and Total Spent in some cases. This is because, when trying to calculate Total Spent, the Price Per Unit is available, but Quantity is missing, making it impossible to compute. Similarly, when trying to determine Quantity, the Total Spent is available, but Price Per Unit is missing, leading to the same issue."
   ]
  },
  {
   "cell_type": "code",
   "execution_count": 14,
   "id": "3b24ad78-6a68-43c5-8fde-ecc69670813e",
   "metadata": {},
   "outputs": [],
   "source": [
    "df['Item'] = df.groupby(['Category','Price Per Unit'])['Item'].transform(lambda x: x.ffill().bfill())"
   ]
  },
  {
   "cell_type": "code",
   "execution_count": 15,
   "id": "02dd5ed6-779b-47c5-acaf-58a80b119e09",
   "metadata": {
    "scrolled": true
   },
   "outputs": [
    {
     "data": {
      "text/plain": [
       "Transaction ID         0\n",
       "Customer ID            0\n",
       "Category               0\n",
       "Item                   0\n",
       "Price Per Unit         0\n",
       "Quantity             604\n",
       "Total Spent          604\n",
       "Payment Method         0\n",
       "Location               0\n",
       "Transaction Date       0\n",
       "Discount Applied    4199\n",
       "dtype: int64"
      ]
     },
     "execution_count": 15,
     "metadata": {},
     "output_type": "execute_result"
    }
   ],
   "source": [
    "df.isnull().sum()"
   ]
  },
  {
   "cell_type": "code",
   "execution_count": 16,
   "id": "cc8cd051-9a75-4861-834a-69a1b1df8954",
   "metadata": {},
   "outputs": [
    {
     "data": {
      "text/html": [
       "<div>\n",
       "<style scoped>\n",
       "    .dataframe tbody tr th:only-of-type {\n",
       "        vertical-align: middle;\n",
       "    }\n",
       "\n",
       "    .dataframe tbody tr th {\n",
       "        vertical-align: top;\n",
       "    }\n",
       "\n",
       "    .dataframe thead th {\n",
       "        text-align: right;\n",
       "    }\n",
       "</style>\n",
       "<table border=\"1\" class=\"dataframe\">\n",
       "  <thead>\n",
       "    <tr style=\"text-align: right;\">\n",
       "      <th></th>\n",
       "      <th>Transaction ID</th>\n",
       "      <th>Customer ID</th>\n",
       "      <th>Category</th>\n",
       "      <th>Item</th>\n",
       "      <th>Price Per Unit</th>\n",
       "      <th>Quantity</th>\n",
       "      <th>Total Spent</th>\n",
       "      <th>Payment Method</th>\n",
       "      <th>Location</th>\n",
       "      <th>Transaction Date</th>\n",
       "      <th>Discount Applied</th>\n",
       "    </tr>\n",
       "  </thead>\n",
       "  <tbody>\n",
       "    <tr>\n",
       "      <th>0</th>\n",
       "      <td>TXN_6867343</td>\n",
       "      <td>CUST_09</td>\n",
       "      <td>Patisserie</td>\n",
       "      <td>Item_10_PAT</td>\n",
       "      <td>18.5</td>\n",
       "      <td>10.0</td>\n",
       "      <td>185.0</td>\n",
       "      <td>Digital Wallet</td>\n",
       "      <td>Online</td>\n",
       "      <td>2024-04-08</td>\n",
       "      <td>True</td>\n",
       "    </tr>\n",
       "    <tr>\n",
       "      <th>1</th>\n",
       "      <td>TXN_3731986</td>\n",
       "      <td>CUST_22</td>\n",
       "      <td>Milk Products</td>\n",
       "      <td>Item_17_MILK</td>\n",
       "      <td>29.0</td>\n",
       "      <td>9.0</td>\n",
       "      <td>261.0</td>\n",
       "      <td>Digital Wallet</td>\n",
       "      <td>Online</td>\n",
       "      <td>2023-07-23</td>\n",
       "      <td>True</td>\n",
       "    </tr>\n",
       "    <tr>\n",
       "      <th>2</th>\n",
       "      <td>TXN_9303719</td>\n",
       "      <td>CUST_02</td>\n",
       "      <td>Butchers</td>\n",
       "      <td>Item_12_BUT</td>\n",
       "      <td>21.5</td>\n",
       "      <td>2.0</td>\n",
       "      <td>43.0</td>\n",
       "      <td>Credit Card</td>\n",
       "      <td>Online</td>\n",
       "      <td>2022-10-05</td>\n",
       "      <td>False</td>\n",
       "    </tr>\n",
       "    <tr>\n",
       "      <th>3</th>\n",
       "      <td>TXN_9458126</td>\n",
       "      <td>CUST_06</td>\n",
       "      <td>Beverages</td>\n",
       "      <td>Item_16_BEV</td>\n",
       "      <td>27.5</td>\n",
       "      <td>9.0</td>\n",
       "      <td>247.5</td>\n",
       "      <td>Credit Card</td>\n",
       "      <td>Online</td>\n",
       "      <td>2022-05-07</td>\n",
       "      <td>NaN</td>\n",
       "    </tr>\n",
       "    <tr>\n",
       "      <th>4</th>\n",
       "      <td>TXN_4575373</td>\n",
       "      <td>CUST_05</td>\n",
       "      <td>Food</td>\n",
       "      <td>Item_6_FOOD</td>\n",
       "      <td>12.5</td>\n",
       "      <td>7.0</td>\n",
       "      <td>87.5</td>\n",
       "      <td>Digital Wallet</td>\n",
       "      <td>Online</td>\n",
       "      <td>2022-10-02</td>\n",
       "      <td>False</td>\n",
       "    </tr>\n",
       "    <tr>\n",
       "      <th>5</th>\n",
       "      <td>TXN_7482416</td>\n",
       "      <td>CUST_09</td>\n",
       "      <td>Patisserie</td>\n",
       "      <td>Item_11_PAT</td>\n",
       "      <td>20.0</td>\n",
       "      <td>10.0</td>\n",
       "      <td>200.0</td>\n",
       "      <td>Credit Card</td>\n",
       "      <td>Online</td>\n",
       "      <td>2023-11-30</td>\n",
       "      <td>NaN</td>\n",
       "    </tr>\n",
       "    <tr>\n",
       "      <th>6</th>\n",
       "      <td>TXN_3652209</td>\n",
       "      <td>CUST_07</td>\n",
       "      <td>Food</td>\n",
       "      <td>Item_1_FOOD</td>\n",
       "      <td>5.0</td>\n",
       "      <td>8.0</td>\n",
       "      <td>40.0</td>\n",
       "      <td>Credit Card</td>\n",
       "      <td>In-store</td>\n",
       "      <td>2023-06-10</td>\n",
       "      <td>True</td>\n",
       "    </tr>\n",
       "    <tr>\n",
       "      <th>7</th>\n",
       "      <td>TXN_1372952</td>\n",
       "      <td>CUST_21</td>\n",
       "      <td>Furniture</td>\n",
       "      <td>Item_20_FUR</td>\n",
       "      <td>33.5</td>\n",
       "      <td>NaN</td>\n",
       "      <td>NaN</td>\n",
       "      <td>Digital Wallet</td>\n",
       "      <td>In-store</td>\n",
       "      <td>2024-04-02</td>\n",
       "      <td>True</td>\n",
       "    </tr>\n",
       "    <tr>\n",
       "      <th>8</th>\n",
       "      <td>TXN_9728486</td>\n",
       "      <td>CUST_23</td>\n",
       "      <td>Furniture</td>\n",
       "      <td>Item_16_FUR</td>\n",
       "      <td>27.5</td>\n",
       "      <td>1.0</td>\n",
       "      <td>27.5</td>\n",
       "      <td>Credit Card</td>\n",
       "      <td>In-store</td>\n",
       "      <td>2023-04-26</td>\n",
       "      <td>False</td>\n",
       "    </tr>\n",
       "    <tr>\n",
       "      <th>9</th>\n",
       "      <td>TXN_2722661</td>\n",
       "      <td>CUST_25</td>\n",
       "      <td>Butchers</td>\n",
       "      <td>Item_22_BUT</td>\n",
       "      <td>36.5</td>\n",
       "      <td>3.0</td>\n",
       "      <td>109.5</td>\n",
       "      <td>Cash</td>\n",
       "      <td>Online</td>\n",
       "      <td>2024-03-14</td>\n",
       "      <td>False</td>\n",
       "    </tr>\n",
       "  </tbody>\n",
       "</table>\n",
       "</div>"
      ],
      "text/plain": [
       "  Transaction ID Customer ID       Category          Item  Price Per Unit  \\\n",
       "0    TXN_6867343     CUST_09     Patisserie   Item_10_PAT            18.5   \n",
       "1    TXN_3731986     CUST_22  Milk Products  Item_17_MILK            29.0   \n",
       "2    TXN_9303719     CUST_02       Butchers   Item_12_BUT            21.5   \n",
       "3    TXN_9458126     CUST_06      Beverages   Item_16_BEV            27.5   \n",
       "4    TXN_4575373     CUST_05           Food   Item_6_FOOD            12.5   \n",
       "5    TXN_7482416     CUST_09     Patisserie   Item_11_PAT            20.0   \n",
       "6    TXN_3652209     CUST_07           Food   Item_1_FOOD             5.0   \n",
       "7    TXN_1372952     CUST_21      Furniture   Item_20_FUR            33.5   \n",
       "8    TXN_9728486     CUST_23      Furniture   Item_16_FUR            27.5   \n",
       "9    TXN_2722661     CUST_25       Butchers   Item_22_BUT            36.5   \n",
       "\n",
       "   Quantity  Total Spent  Payment Method  Location Transaction Date  \\\n",
       "0      10.0        185.0  Digital Wallet    Online       2024-04-08   \n",
       "1       9.0        261.0  Digital Wallet    Online       2023-07-23   \n",
       "2       2.0         43.0     Credit Card    Online       2022-10-05   \n",
       "3       9.0        247.5     Credit Card    Online       2022-05-07   \n",
       "4       7.0         87.5  Digital Wallet    Online       2022-10-02   \n",
       "5      10.0        200.0     Credit Card    Online       2023-11-30   \n",
       "6       8.0         40.0     Credit Card  In-store       2023-06-10   \n",
       "7       NaN          NaN  Digital Wallet  In-store       2024-04-02   \n",
       "8       1.0         27.5     Credit Card  In-store       2023-04-26   \n",
       "9       3.0        109.5            Cash    Online       2024-03-14   \n",
       "\n",
       "  Discount Applied  \n",
       "0             True  \n",
       "1             True  \n",
       "2            False  \n",
       "3              NaN  \n",
       "4            False  \n",
       "5              NaN  \n",
       "6             True  \n",
       "7             True  \n",
       "8            False  \n",
       "9            False  "
      ]
     },
     "execution_count": 16,
     "metadata": {},
     "output_type": "execute_result"
    }
   ],
   "source": [
    "df.head(10)"
   ]
  },
  {
   "cell_type": "code",
   "execution_count": 17,
   "id": "4a106b33-41e2-44dd-b67a-04dbfb67b458",
   "metadata": {},
   "outputs": [],
   "source": [
    "# Step 1: Compute the average quantity for missing values\n",
    "avg_quantity = df.groupby(['Customer ID','Category'])['Quantity'].mean().reset_index()"
   ]
  },
  {
   "cell_type": "code",
   "execution_count": 18,
   "id": "649e6da8-d915-4356-abfb-6e1f0d59dff4",
   "metadata": {},
   "outputs": [
    {
     "data": {
      "text/html": [
       "<div>\n",
       "<style scoped>\n",
       "    .dataframe tbody tr th:only-of-type {\n",
       "        vertical-align: middle;\n",
       "    }\n",
       "\n",
       "    .dataframe tbody tr th {\n",
       "        vertical-align: top;\n",
       "    }\n",
       "\n",
       "    .dataframe thead th {\n",
       "        text-align: right;\n",
       "    }\n",
       "</style>\n",
       "<table border=\"1\" class=\"dataframe\">\n",
       "  <thead>\n",
       "    <tr style=\"text-align: right;\">\n",
       "      <th></th>\n",
       "      <th>Customer ID</th>\n",
       "      <th>Category</th>\n",
       "      <th>Quantity</th>\n",
       "    </tr>\n",
       "  </thead>\n",
       "  <tbody>\n",
       "    <tr>\n",
       "      <th>0</th>\n",
       "      <td>CUST_01</td>\n",
       "      <td>Beverages</td>\n",
       "      <td>5.203125</td>\n",
       "    </tr>\n",
       "    <tr>\n",
       "      <th>1</th>\n",
       "      <td>CUST_01</td>\n",
       "      <td>Butchers</td>\n",
       "      <td>5.412698</td>\n",
       "    </tr>\n",
       "  </tbody>\n",
       "</table>\n",
       "</div>"
      ],
      "text/plain": [
       "  Customer ID   Category  Quantity\n",
       "0     CUST_01  Beverages  5.203125\n",
       "1     CUST_01   Butchers  5.412698"
      ]
     },
     "execution_count": 18,
     "metadata": {},
     "output_type": "execute_result"
    }
   ],
   "source": [
    "avg_quantity.head(2)"
   ]
  },
  {
   "cell_type": "code",
   "execution_count": 19,
   "id": "5e5023a8-078e-46a6-8078-eb05f6d8b67c",
   "metadata": {},
   "outputs": [
    {
     "name": "stderr",
     "output_type": "stream",
     "text": [
      "C:\\Users\\bhara\\AppData\\Local\\Temp\\ipykernel_13672\\2902475659.py:7: FutureWarning: A value is trying to be set on a copy of a DataFrame or Series through chained assignment using an inplace method.\n",
      "The behavior will change in pandas 3.0. This inplace method will never work because the intermediate object on which we are setting values always behaves as a copy.\n",
      "\n",
      "For example, when doing 'df[col].method(value, inplace=True)', try using 'df.method({col: value}, inplace=True)' or df[col] = df[col].method(value) instead, to perform the operation inplace on the original object.\n",
      "\n",
      "\n",
      "  df['Quantity'].fillna(df['Avg_Quantity'], inplace=True)\n"
     ]
    }
   ],
   "source": [
    "\n",
    "avg_quantity.rename(columns={'Quantity': 'Avg_Quantity'}, inplace=True)\n",
    "\n",
    "# Step 2: Merge the average quantity back into the original dataset\n",
    "df = pd.merge(df, avg_quantity, on=['Customer ID', 'Category'], how='left')\n",
    "\n",
    "# Step 3: Fill missing values in \"Quantity\"\n",
    "df['Quantity'].fillna(df['Avg_Quantity'], inplace=True)\n",
    "\n",
    "# Step 4: Drop the extra column\n",
    "df.drop(columns=['Avg_Quantity'], inplace=True)\n"
   ]
  },
  {
   "cell_type": "code",
   "execution_count": 20,
   "id": "314d9997-1072-4e74-b960-07f2b18b469c",
   "metadata": {},
   "outputs": [
    {
     "data": {
      "text/plain": [
       "Transaction ID         0\n",
       "Customer ID            0\n",
       "Category               0\n",
       "Item                   0\n",
       "Price Per Unit         0\n",
       "Quantity               0\n",
       "Total Spent          604\n",
       "Payment Method         0\n",
       "Location               0\n",
       "Transaction Date       0\n",
       "Discount Applied    4199\n",
       "dtype: int64"
      ]
     },
     "execution_count": 20,
     "metadata": {},
     "output_type": "execute_result"
    }
   ],
   "source": [
    "df.isnull().sum()"
   ]
  },
  {
   "cell_type": "code",
   "execution_count": 21,
   "id": "b8425a32-caa9-4636-b0a4-7a2cff576c84",
   "metadata": {},
   "outputs": [],
   "source": [
    "df[\"Total Spent\"] = df[\"Total Spent\"].fillna(df[\"Price Per Unit\"] * df[\"Quantity\"])\n"
   ]
  },
  {
   "cell_type": "code",
   "execution_count": 22,
   "id": "0d6bdea2-e2e0-4208-9d87-ebd52c5c6f36",
   "metadata": {},
   "outputs": [],
   "source": [
    "df['Discount Applied'] = df['Discount Applied'].fillna(\"Info Not Available\")\n"
   ]
  },
  {
   "cell_type": "code",
   "execution_count": 23,
   "id": "33a53ea6-1118-4f03-b341-e1c966995c1d",
   "metadata": {},
   "outputs": [
    {
     "data": {
      "text/plain": [
       "Transaction ID      0\n",
       "Customer ID         0\n",
       "Category            0\n",
       "Item                0\n",
       "Price Per Unit      0\n",
       "Quantity            0\n",
       "Total Spent         0\n",
       "Payment Method      0\n",
       "Location            0\n",
       "Transaction Date    0\n",
       "Discount Applied    0\n",
       "dtype: int64"
      ]
     },
     "execution_count": 23,
     "metadata": {},
     "output_type": "execute_result"
    }
   ],
   "source": [
    "df.isnull().sum()"
   ]
  },
  {
   "cell_type": "code",
   "execution_count": 24,
   "id": "592a9de3-d110-46c4-9bef-8f322cd36204",
   "metadata": {},
   "outputs": [],
   "source": [
    "df['Month Name'] = df['Transaction Date'].dt.month_name()\n",
    "df['Day of Week'] = df['Transaction Date'].dt.day_name()\n",
    "df[\"Year\"] = df[\"Transaction Date\"].dt.year"
   ]
  },
  {
   "cell_type": "code",
   "execution_count": 25,
   "id": "15b19093-bba5-45d7-9d2c-b6cd193cadf1",
   "metadata": {},
   "outputs": [
    {
     "data": {
      "text/html": [
       "<div>\n",
       "<style scoped>\n",
       "    .dataframe tbody tr th:only-of-type {\n",
       "        vertical-align: middle;\n",
       "    }\n",
       "\n",
       "    .dataframe tbody tr th {\n",
       "        vertical-align: top;\n",
       "    }\n",
       "\n",
       "    .dataframe thead th {\n",
       "        text-align: right;\n",
       "    }\n",
       "</style>\n",
       "<table border=\"1\" class=\"dataframe\">\n",
       "  <thead>\n",
       "    <tr style=\"text-align: right;\">\n",
       "      <th></th>\n",
       "      <th>Transaction ID</th>\n",
       "      <th>Customer ID</th>\n",
       "      <th>Category</th>\n",
       "      <th>Item</th>\n",
       "      <th>Price Per Unit</th>\n",
       "      <th>Quantity</th>\n",
       "      <th>Total Spent</th>\n",
       "      <th>Payment Method</th>\n",
       "      <th>Location</th>\n",
       "      <th>Transaction Date</th>\n",
       "      <th>Discount Applied</th>\n",
       "      <th>Month Name</th>\n",
       "      <th>Day of Week</th>\n",
       "      <th>Year</th>\n",
       "    </tr>\n",
       "  </thead>\n",
       "  <tbody>\n",
       "    <tr>\n",
       "      <th>0</th>\n",
       "      <td>TXN_6867343</td>\n",
       "      <td>CUST_09</td>\n",
       "      <td>Patisserie</td>\n",
       "      <td>Item_10_PAT</td>\n",
       "      <td>18.5</td>\n",
       "      <td>10.0</td>\n",
       "      <td>185.0</td>\n",
       "      <td>Digital Wallet</td>\n",
       "      <td>Online</td>\n",
       "      <td>2024-04-08</td>\n",
       "      <td>True</td>\n",
       "      <td>April</td>\n",
       "      <td>Monday</td>\n",
       "      <td>2024</td>\n",
       "    </tr>\n",
       "    <tr>\n",
       "      <th>1</th>\n",
       "      <td>TXN_3731986</td>\n",
       "      <td>CUST_22</td>\n",
       "      <td>Milk Products</td>\n",
       "      <td>Item_17_MILK</td>\n",
       "      <td>29.0</td>\n",
       "      <td>9.0</td>\n",
       "      <td>261.0</td>\n",
       "      <td>Digital Wallet</td>\n",
       "      <td>Online</td>\n",
       "      <td>2023-07-23</td>\n",
       "      <td>True</td>\n",
       "      <td>July</td>\n",
       "      <td>Sunday</td>\n",
       "      <td>2023</td>\n",
       "    </tr>\n",
       "    <tr>\n",
       "      <th>2</th>\n",
       "      <td>TXN_9303719</td>\n",
       "      <td>CUST_02</td>\n",
       "      <td>Butchers</td>\n",
       "      <td>Item_12_BUT</td>\n",
       "      <td>21.5</td>\n",
       "      <td>2.0</td>\n",
       "      <td>43.0</td>\n",
       "      <td>Credit Card</td>\n",
       "      <td>Online</td>\n",
       "      <td>2022-10-05</td>\n",
       "      <td>False</td>\n",
       "      <td>October</td>\n",
       "      <td>Wednesday</td>\n",
       "      <td>2022</td>\n",
       "    </tr>\n",
       "    <tr>\n",
       "      <th>3</th>\n",
       "      <td>TXN_9458126</td>\n",
       "      <td>CUST_06</td>\n",
       "      <td>Beverages</td>\n",
       "      <td>Item_16_BEV</td>\n",
       "      <td>27.5</td>\n",
       "      <td>9.0</td>\n",
       "      <td>247.5</td>\n",
       "      <td>Credit Card</td>\n",
       "      <td>Online</td>\n",
       "      <td>2022-05-07</td>\n",
       "      <td>Info Not Available</td>\n",
       "      <td>May</td>\n",
       "      <td>Saturday</td>\n",
       "      <td>2022</td>\n",
       "    </tr>\n",
       "  </tbody>\n",
       "</table>\n",
       "</div>"
      ],
      "text/plain": [
       "  Transaction ID Customer ID       Category          Item  Price Per Unit  \\\n",
       "0    TXN_6867343     CUST_09     Patisserie   Item_10_PAT            18.5   \n",
       "1    TXN_3731986     CUST_22  Milk Products  Item_17_MILK            29.0   \n",
       "2    TXN_9303719     CUST_02       Butchers   Item_12_BUT            21.5   \n",
       "3    TXN_9458126     CUST_06      Beverages   Item_16_BEV            27.5   \n",
       "\n",
       "   Quantity  Total Spent  Payment Method Location Transaction Date  \\\n",
       "0      10.0        185.0  Digital Wallet   Online       2024-04-08   \n",
       "1       9.0        261.0  Digital Wallet   Online       2023-07-23   \n",
       "2       2.0         43.0     Credit Card   Online       2022-10-05   \n",
       "3       9.0        247.5     Credit Card   Online       2022-05-07   \n",
       "\n",
       "     Discount Applied Month Name Day of Week  Year  \n",
       "0                True      April      Monday  2024  \n",
       "1                True       July      Sunday  2023  \n",
       "2               False    October   Wednesday  2022  \n",
       "3  Info Not Available        May    Saturday  2022  "
      ]
     },
     "execution_count": 25,
     "metadata": {},
     "output_type": "execute_result"
    }
   ],
   "source": [
    "df.head(4)"
   ]
  },
  {
   "cell_type": "code",
   "execution_count": 26,
   "id": "360a55e9-3aa2-4e4e-8c69-08eb46f51931",
   "metadata": {},
   "outputs": [
    {
     "data": {
      "text/html": [
       "<div>\n",
       "<style scoped>\n",
       "    .dataframe tbody tr th:only-of-type {\n",
       "        vertical-align: middle;\n",
       "    }\n",
       "\n",
       "    .dataframe tbody tr th {\n",
       "        vertical-align: top;\n",
       "    }\n",
       "\n",
       "    .dataframe thead th {\n",
       "        text-align: right;\n",
       "    }\n",
       "</style>\n",
       "<table border=\"1\" class=\"dataframe\">\n",
       "  <thead>\n",
       "    <tr style=\"text-align: right;\">\n",
       "      <th></th>\n",
       "      <th>Transaction ID</th>\n",
       "      <th>Customer ID</th>\n",
       "      <th>Category</th>\n",
       "      <th>Item</th>\n",
       "      <th>Price Per Unit</th>\n",
       "      <th>Quantity</th>\n",
       "      <th>Total Spent</th>\n",
       "      <th>Payment Method</th>\n",
       "      <th>Location</th>\n",
       "      <th>Transaction Date</th>\n",
       "      <th>Discount Applied</th>\n",
       "      <th>Month Name</th>\n",
       "      <th>Day of Week</th>\n",
       "      <th>Year</th>\n",
       "    </tr>\n",
       "  </thead>\n",
       "  <tbody>\n",
       "    <tr>\n",
       "      <th>0</th>\n",
       "      <td>TXN_6867343</td>\n",
       "      <td>CUST_09</td>\n",
       "      <td>Patisserie</td>\n",
       "      <td>Item_10_PAT</td>\n",
       "      <td>18.5</td>\n",
       "      <td>10.0</td>\n",
       "      <td>185.0</td>\n",
       "      <td>Digital Wallet</td>\n",
       "      <td>Online</td>\n",
       "      <td>2024-04-08</td>\n",
       "      <td>True</td>\n",
       "      <td>April</td>\n",
       "      <td>Monday</td>\n",
       "      <td>2024</td>\n",
       "    </tr>\n",
       "    <tr>\n",
       "      <th>1</th>\n",
       "      <td>TXN_3731986</td>\n",
       "      <td>CUST_22</td>\n",
       "      <td>Milk Products</td>\n",
       "      <td>Item_17_MILK</td>\n",
       "      <td>29.0</td>\n",
       "      <td>9.0</td>\n",
       "      <td>261.0</td>\n",
       "      <td>Digital Wallet</td>\n",
       "      <td>Online</td>\n",
       "      <td>2023-07-23</td>\n",
       "      <td>True</td>\n",
       "      <td>July</td>\n",
       "      <td>Sunday</td>\n",
       "      <td>2023</td>\n",
       "    </tr>\n",
       "  </tbody>\n",
       "</table>\n",
       "</div>"
      ],
      "text/plain": [
       "  Transaction ID Customer ID       Category          Item  Price Per Unit  \\\n",
       "0    TXN_6867343     CUST_09     Patisserie   Item_10_PAT            18.5   \n",
       "1    TXN_3731986     CUST_22  Milk Products  Item_17_MILK            29.0   \n",
       "\n",
       "   Quantity  Total Spent  Payment Method Location Transaction Date  \\\n",
       "0      10.0        185.0  Digital Wallet   Online       2024-04-08   \n",
       "1       9.0        261.0  Digital Wallet   Online       2023-07-23   \n",
       "\n",
       "  Discount Applied Month Name Day of Week  Year  \n",
       "0             True      April      Monday  2024  \n",
       "1             True       July      Sunday  2023  "
      ]
     },
     "execution_count": 26,
     "metadata": {},
     "output_type": "execute_result"
    }
   ],
   "source": [
    "df.head(2)"
   ]
  },
  {
   "cell_type": "code",
   "execution_count": 27,
   "id": "cd2ad373-83be-46e3-adb9-e1638c884fd1",
   "metadata": {},
   "outputs": [
    {
     "data": {
      "text/html": [
       "<div>\n",
       "<style scoped>\n",
       "    .dataframe tbody tr th:only-of-type {\n",
       "        vertical-align: middle;\n",
       "    }\n",
       "\n",
       "    .dataframe tbody tr th {\n",
       "        vertical-align: top;\n",
       "    }\n",
       "\n",
       "    .dataframe thead th {\n",
       "        text-align: right;\n",
       "    }\n",
       "</style>\n",
       "<table border=\"1\" class=\"dataframe\">\n",
       "  <thead>\n",
       "    <tr style=\"text-align: right;\">\n",
       "      <th></th>\n",
       "      <th>Price Per Unit</th>\n",
       "      <th>Quantity</th>\n",
       "      <th>Total Spent</th>\n",
       "      <th>Transaction Date</th>\n",
       "      <th>Year</th>\n",
       "    </tr>\n",
       "  </thead>\n",
       "  <tbody>\n",
       "    <tr>\n",
       "      <th>count</th>\n",
       "      <td>12575.000000</td>\n",
       "      <td>12575.000000</td>\n",
       "      <td>12575.000000</td>\n",
       "      <td>12575</td>\n",
       "      <td>12575.000000</td>\n",
       "    </tr>\n",
       "    <tr>\n",
       "      <th>mean</th>\n",
       "      <td>23.369304</td>\n",
       "      <td>5.537049</td>\n",
       "      <td>129.704781</td>\n",
       "      <td>2023-07-12 20:23:41.105368064</td>\n",
       "      <td>2023.042386</td>\n",
       "    </tr>\n",
       "    <tr>\n",
       "      <th>min</th>\n",
       "      <td>5.000000</td>\n",
       "      <td>1.000000</td>\n",
       "      <td>5.000000</td>\n",
       "      <td>2022-01-01 00:00:00</td>\n",
       "      <td>2022.000000</td>\n",
       "    </tr>\n",
       "    <tr>\n",
       "      <th>25%</th>\n",
       "      <td>14.000000</td>\n",
       "      <td>3.000000</td>\n",
       "      <td>52.000000</td>\n",
       "      <td>2022-09-30 00:00:00</td>\n",
       "      <td>2022.000000</td>\n",
       "    </tr>\n",
       "    <tr>\n",
       "      <th>50%</th>\n",
       "      <td>23.000000</td>\n",
       "      <td>5.638889</td>\n",
       "      <td>109.500000</td>\n",
       "      <td>2023-07-13 00:00:00</td>\n",
       "      <td>2023.000000</td>\n",
       "    </tr>\n",
       "    <tr>\n",
       "      <th>75%</th>\n",
       "      <td>33.500000</td>\n",
       "      <td>8.000000</td>\n",
       "      <td>191.666667</td>\n",
       "      <td>2024-04-24 00:00:00</td>\n",
       "      <td>2024.000000</td>\n",
       "    </tr>\n",
       "    <tr>\n",
       "      <th>max</th>\n",
       "      <td>41.000000</td>\n",
       "      <td>10.000000</td>\n",
       "      <td>410.000000</td>\n",
       "      <td>2025-01-18 00:00:00</td>\n",
       "      <td>2025.000000</td>\n",
       "    </tr>\n",
       "    <tr>\n",
       "      <th>std</th>\n",
       "      <td>10.748728</td>\n",
       "      <td>2.789522</td>\n",
       "      <td>93.422736</td>\n",
       "      <td>NaN</td>\n",
       "      <td>0.855581</td>\n",
       "    </tr>\n",
       "  </tbody>\n",
       "</table>\n",
       "</div>"
      ],
      "text/plain": [
       "       Price Per Unit      Quantity   Total Spent  \\\n",
       "count    12575.000000  12575.000000  12575.000000   \n",
       "mean        23.369304      5.537049    129.704781   \n",
       "min          5.000000      1.000000      5.000000   \n",
       "25%         14.000000      3.000000     52.000000   \n",
       "50%         23.000000      5.638889    109.500000   \n",
       "75%         33.500000      8.000000    191.666667   \n",
       "max         41.000000     10.000000    410.000000   \n",
       "std         10.748728      2.789522     93.422736   \n",
       "\n",
       "                    Transaction Date          Year  \n",
       "count                          12575  12575.000000  \n",
       "mean   2023-07-12 20:23:41.105368064   2023.042386  \n",
       "min              2022-01-01 00:00:00   2022.000000  \n",
       "25%              2022-09-30 00:00:00   2022.000000  \n",
       "50%              2023-07-13 00:00:00   2023.000000  \n",
       "75%              2024-04-24 00:00:00   2024.000000  \n",
       "max              2025-01-18 00:00:00   2025.000000  \n",
       "std                              NaN      0.855581  "
      ]
     },
     "execution_count": 27,
     "metadata": {},
     "output_type": "execute_result"
    }
   ],
   "source": [
    "df.describe()"
   ]
  },
  {
   "cell_type": "code",
   "execution_count": 28,
   "id": "99ffc15f-f691-466b-bed0-4be312f2c156",
   "metadata": {},
   "outputs": [],
   "source": [
    "df[[\"Location\", \"Item\", \"Payment Method\"]] = df[[\"Location\", \"Item\", \"Payment Method\"]].astype(\"object\")\n"
   ]
  },
  {
   "cell_type": "code",
   "execution_count": 29,
   "id": "5f3ce592-9114-4535-a4de-c777b4f77e6c",
   "metadata": {},
   "outputs": [
    {
     "name": "stdout",
     "output_type": "stream",
     "text": [
      "<class 'pandas.core.frame.DataFrame'>\n",
      "RangeIndex: 12575 entries, 0 to 12574\n",
      "Data columns (total 14 columns):\n",
      " #   Column            Non-Null Count  Dtype         \n",
      "---  ------            --------------  -----         \n",
      " 0   Transaction ID    12575 non-null  object        \n",
      " 1   Customer ID       12575 non-null  object        \n",
      " 2   Category          12575 non-null  object        \n",
      " 3   Item              12575 non-null  object        \n",
      " 4   Price Per Unit    12575 non-null  float64       \n",
      " 5   Quantity          12575 non-null  float64       \n",
      " 6   Total Spent       12575 non-null  float64       \n",
      " 7   Payment Method    12575 non-null  object        \n",
      " 8   Location          12575 non-null  object        \n",
      " 9   Transaction Date  12575 non-null  datetime64[ns]\n",
      " 10  Discount Applied  12575 non-null  object        \n",
      " 11  Month Name        12575 non-null  object        \n",
      " 12  Day of Week       12575 non-null  object        \n",
      " 13  Year              12575 non-null  int32         \n",
      "dtypes: datetime64[ns](1), float64(3), int32(1), object(9)\n",
      "memory usage: 1.3+ MB\n"
     ]
    }
   ],
   "source": [
    "df.info()"
   ]
  },
  {
   "cell_type": "code",
   "execution_count": 31,
   "id": "dce025a1-6d9f-4e6f-985a-15194c47b825",
   "metadata": {},
   "outputs": [
    {
     "name": "stderr",
     "output_type": "stream",
     "text": [
      "C:\\Users\\bhara\\AppData\\Local\\Temp\\ipykernel_13672\\1941810489.py:6: FutureWarning: \n",
      "\n",
      "Passing `palette` without assigning `hue` is deprecated and will be removed in v0.14.0. Assign the `y` variable to `hue` and set `legend=False` for the same effect.\n",
      "\n",
      "  sns.barplot(data=category_sales, x=\"Total Spent\", y=\"Category\", palette=\"viridis\")\n"
     ]
    },
    {
     "data": {
      "image/png": "[encoded data removed]",
      "text/plain": [
       "<Figure size 1000x500 with 1 Axes>"
      ]
     },
     "metadata": {},
     "output_type": "display_data"
    }
   ],
   "source": [
    "\n",
    "import matplotlib.pyplot as plt\n",
    "import seaborn as sns\n",
    "category_sales = df.groupby(\"Category\")[\"Total Spent\"].sum().reset_index().sort_values(by=\"Total Spent\", ascending=False)\n",
    "\n",
    "plt.figure(figsize=(10, 5))\n",
    "sns.barplot(data=category_sales, x=\"Total Spent\", y=\"Category\", palette=\"viridis\")\n",
    "plt.title(\"Sales Performance by Category\")\n",
    "plt.show()\n",
    "\n"
   ]
  },
  {
   "cell_type": "code",
   "execution_count": 33,
   "id": "bde1adca-60ea-488e-b66a-81af18ef6d22",
   "metadata": {},
   "outputs": [
    {
     "name": "stderr",
     "output_type": "stream",
     "text": [
      "C:\\Users\\bhara\\AppData\\Local\\Temp\\ipykernel_13672\\4088520620.py:4: FutureWarning: \n",
      "\n",
      "Passing `palette` without assigning `hue` is deprecated and will be removed in v0.14.0. Assign the `y` variable to `hue` and set `legend=False` for the same effect.\n",
      "\n",
      "  sns.barplot(data=customer_spending, x=\"Total Spent\", y=\"Customer ID\", palette=\"magma\")\n"
     ]
    },
    {
     "data": {
      "image/png": "[encoded data removed]",
      "text/plain": [
       "<Figure size 1000x500 with 1 Axes>"
      ]
     },
     "metadata": {},
     "output_type": "display_data"
    }
   ],
   "source": [
    "\n",
    "customer_spending = df.groupby(\"Customer ID\")[\"Total Spent\"].sum().reset_index().sort_values(by=\"Total Spent\", ascending=False).head(5)\n",
    "\n",
    "plt.figure(figsize=(10, 5))\n",
    "sns.barplot(data=customer_spending, x=\"Total Spent\", y=\"Customer ID\", palette=\"magma\")\n",
    "plt.title(\"Top 10 High-Spending Customers\")\n",
    "plt.show()\n"
   ]
  },
  {
   "cell_type": "code",
   "execution_count": 35,
   "id": "350ac870-5829-4743-972e-1670ebaebbca",
   "metadata": {},
   "outputs": [
    {
     "data": {
      "image/png": "[encoded data removed]",
      "text/plain": [
       "<Figure size 800x500 with 1 Axes>"
      ]
     },
     "metadata": {},
     "output_type": "display_data"
    }
   ],
   "source": [
    "\n",
    "plt.figure(figsize=(8,5))\n",
    "sns.histplot(df[\"Total Spent\"], bins=30, kde=True, color=\"royalblue\")\n",
    "plt.title(\"Distribution of Total Sales\")\n",
    "plt.xlabel(\"Total Spent\")\n",
    "plt.ylabel(\"Frequency\")\n",
    "plt.show()"
   ]
  },
  {
   "cell_type": "code",
   "execution_count": 37,
   "id": "63a29f9e-772c-4e57-82f2-1ccf0e2fbb75",
   "metadata": {},
   "outputs": [
    {
     "data": {
      "image/png": "[encoded data removed]",
      "text/plain": [
       "<Figure size 700x700 with 1 Axes>"
      ]
     },
     "metadata": {},
     "output_type": "display_data"
    }
   ],
   "source": [
    "payment_sales = df.groupby(\"Payment Method\")[\"Total Spent\"].sum()\n",
    "\n",
    "plt.figure(figsize=(7,7))\n",
    "plt.pie(payment_sales, labels=payment_sales.index, autopct='%1.1f%%', colors=[\"blue\", \"orange\", \"green\"], startangle=140)\n",
    "plt.title(\"Sales Distribution Across Payment Methods\")\n",
    "plt.show()"
   ]
  },
  {
   "cell_type": "code",
   "execution_count": 39,
   "id": "948c6a02-7712-49a8-bef8-de0da3a7b71c",
   "metadata": {},
   "outputs": [
    {
     "data": {
      "image/png": "[encoded data removed]",
      "text/plain": [
       "<Figure size 1000x500 with 1 Axes>"
      ]
     },
     "metadata": {},
     "output_type": "display_data"
    }
   ],
   "source": [
    "month_sales = df.groupby(\"Month Name\")[\"Total Spent\"].sum()\n",
    "month_sales = month_sales.reindex([\"January\", \"February\", \"March\", \"April\", \"May\", \"June\", \"July\", \"August\", \"September\", \"October\", \"November\", \"December\"])\n",
    "\n",
    "plt.figure(figsize=(10,5))\n",
    "month_sales.plot(kind='bar', color='teal')\n",
    "plt.title(\"Month-wise Sales Performance\")\n",
    "plt.xlabel(\"Month\")\n",
    "plt.ylabel(\"Total Sales\")\n",
    "plt.xticks(rotation=45)\n",
    "plt.show()"
   ]
  },
  {
   "cell_type": "code",
   "execution_count": null,
   "id": "3c0d28a8-d482-4fa8-98ac-1354b8c9f64b",
   "metadata": {},
   "outputs": [],
   "source": []
  },
  {
   "cell_type": "code",
   "execution_count": null,
   "id": "5eb95777-7026-42a1-a683-8aa90c802c04",
   "metadata": {},
   "outputs": [],
   "source": []
  },
  {
   "cell_type": "code",
   "execution_count": null,
   "id": "26a49f32-b43a-432e-9e3a-6798dd54d15d",
   "metadata": {},
   "outputs": [],
   "source": []
  }
 ],
 "metadata": {
  "kernelspec": {
   "display_name": "Python 3 (ipykernel)",
   "language": "python",
   "name": "python3"
  },
  "language_info": {
   "codemirror_mode": {
    "name": "ipython",
    "version": 3
   },
   "file_extension": ".py",
   "mimetype": "text/x-python",
   "name": "python",
   "nbconvert_exporter": "python",
   "pygments_lexer": "ipython3",
   "version": "3.12.4"
  }
 },
 "nbformat": 4,
 "nbformat_minor": 5
}
